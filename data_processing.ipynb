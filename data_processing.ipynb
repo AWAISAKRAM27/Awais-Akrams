{
 "cells": [
  {
   "cell_type": "code",
   "execution_count": 1,
   "metadata": {},
   "outputs": [],
   "source": [
    "import pandas as pd #for data manuplation"
   ]
  },
  {
   "cell_type": "code",
   "execution_count": 2,
   "metadata": {},
   "outputs": [],
   "source": [
    "data=pd.read_csv(\"apple_sales_2024.csv\")"
   ]
  },
  {
   "cell_type": "code",
   "execution_count": 3,
   "metadata": {},
   "outputs": [
    {
     "data": {
      "text/plain": [
       "Index(['State', 'Region', 'iPhone Sales (in million units)',\n",
       "       'iPad Sales (in million units)', 'Mac Sales (in million units)',\n",
       "       'Wearables (in million units)', 'Services Revenue (in billion $)'],\n",
       "      dtype='object')"
      ]
     },
     "execution_count": 3,
     "metadata": {},
     "output_type": "execute_result"
    }
   ],
   "source": [
    "data.columns"
   ]
  },
  {
   "cell_type": "code",
   "execution_count": null,
   "metadata": {},
   "outputs": [
    {
     "data": {
      "text/html": [
       "<div>\n",
       "<style scoped>\n",
       "    .dataframe tbody tr th:only-of-type {\n",
       "        vertical-align: middle;\n",
       "    }\n",
       "\n",
       "    .dataframe tbody tr th {\n",
       "        vertical-align: top;\n",
       "    }\n",
       "\n",
       "    .dataframe thead th {\n",
       "        text-align: right;\n",
       "    }\n",
       "</style>\n",
       "<table border=\"1\" class=\"dataframe\">\n",
       "  <thead>\n",
       "    <tr style=\"text-align: right;\">\n",
       "      <th></th>\n",
       "      <th>State</th>\n",
       "      <th>Region</th>\n",
       "      <th>iPhone Sales (in million units)</th>\n",
       "      <th>iPad Sales (in million units)</th>\n",
       "      <th>Mac Sales (in million units)</th>\n",
       "      <th>Wearables (in million units)</th>\n",
       "      <th>Services Revenue (in billion $)</th>\n",
       "    </tr>\n",
       "  </thead>\n",
       "  <tbody>\n",
       "    <tr>\n",
       "      <th>0</th>\n",
       "      <td>Chongqing</td>\n",
       "      <td>Greater China</td>\n",
       "      <td>7.46</td>\n",
       "      <td>6.75</td>\n",
       "      <td>1.19</td>\n",
       "      <td>5.88</td>\n",
       "      <td>15.88</td>\n",
       "    </tr>\n",
       "    <tr>\n",
       "      <th>1</th>\n",
       "      <td>Germany</td>\n",
       "      <td>Europe</td>\n",
       "      <td>8.63</td>\n",
       "      <td>14.06</td>\n",
       "      <td>7.03</td>\n",
       "      <td>7.42</td>\n",
       "      <td>10.12</td>\n",
       "    </tr>\n",
       "    <tr>\n",
       "      <th>2</th>\n",
       "      <td>UK</td>\n",
       "      <td>Europe</td>\n",
       "      <td>5.61</td>\n",
       "      <td>14.09</td>\n",
       "      <td>8.78</td>\n",
       "      <td>8.19</td>\n",
       "      <td>19.85</td>\n",
       "    </tr>\n",
       "    <tr>\n",
       "      <th>3</th>\n",
       "      <td>Shanghai</td>\n",
       "      <td>Greater China</td>\n",
       "      <td>7.82</td>\n",
       "      <td>7.97</td>\n",
       "      <td>9.78</td>\n",
       "      <td>2.28</td>\n",
       "      <td>6.16</td>\n",
       "    </tr>\n",
       "    <tr>\n",
       "      <th>4</th>\n",
       "      <td>Thailand</td>\n",
       "      <td>Rest of Asia</td>\n",
       "      <td>16.70</td>\n",
       "      <td>8.13</td>\n",
       "      <td>6.46</td>\n",
       "      <td>3.48</td>\n",
       "      <td>13.29</td>\n",
       "    </tr>\n",
       "  </tbody>\n",
       "</table>\n",
       "</div>"
      ],
      "text/plain": [
       "       State         Region  iPhone Sales (in million units)  \\\n",
       "0  Chongqing  Greater China                             7.46   \n",
       "1    Germany         Europe                             8.63   \n",
       "2         UK         Europe                             5.61   \n",
       "3   Shanghai  Greater China                             7.82   \n",
       "4   Thailand   Rest of Asia                            16.70   \n",
       "\n",
       "   iPad Sales (in million units)  Mac Sales (in million units)  \\\n",
       "0                           6.75                          1.19   \n",
       "1                          14.06                          7.03   \n",
       "2                          14.09                          8.78   \n",
       "3                           7.97                          9.78   \n",
       "4                           8.13                          6.46   \n",
       "\n",
       "   Wearables (in million units)  Services Revenue (in billion $)  \n",
       "0                          5.88                            15.88  \n",
       "1                          7.42                            10.12  \n",
       "2                          8.19                            19.85  \n",
       "3                          2.28                             6.16  \n",
       "4                          3.48                            13.29  "
      ]
     },
     "execution_count": 4,
     "metadata": {},
     "output_type": "execute_result"
    }
   ],
   "source": [
    "data.head()"
   ]
  },
  {
   "cell_type": "code",
   "execution_count": 5,
   "metadata": {},
   "outputs": [
    {
     "data": {
      "text/plain": [
       "(1000, 7)"
      ]
     },
     "execution_count": 5,
     "metadata": {},
     "output_type": "execute_result"
    }
   ],
   "source": [
    "data.shape"
   ]
  },
  {
   "cell_type": "code",
   "execution_count": 6,
   "metadata": {},
   "outputs": [
    {
     "data": {
      "text/html": [
       "<div>\n",
       "<style scoped>\n",
       "    .dataframe tbody tr th:only-of-type {\n",
       "        vertical-align: middle;\n",
       "    }\n",
       "\n",
       "    .dataframe tbody tr th {\n",
       "        vertical-align: top;\n",
       "    }\n",
       "\n",
       "    .dataframe thead th {\n",
       "        text-align: right;\n",
       "    }\n",
       "</style>\n",
       "<table border=\"1\" class=\"dataframe\">\n",
       "  <thead>\n",
       "    <tr style=\"text-align: right;\">\n",
       "      <th></th>\n",
       "      <th>State</th>\n",
       "      <th>Region</th>\n",
       "      <th>iPhone Sales (in million units)</th>\n",
       "      <th>iPad Sales (in million units)</th>\n",
       "      <th>Mac Sales (in million units)</th>\n",
       "      <th>Wearables (in million units)</th>\n",
       "      <th>Services Revenue (in billion $)</th>\n",
       "    </tr>\n",
       "  </thead>\n",
       "  <tbody>\n",
       "    <tr>\n",
       "      <th>995</th>\n",
       "      <td>Mexico</td>\n",
       "      <td>Rest of World</td>\n",
       "      <td>29.86</td>\n",
       "      <td>10.30</td>\n",
       "      <td>7.40</td>\n",
       "      <td>9.60</td>\n",
       "      <td>18.56</td>\n",
       "    </tr>\n",
       "    <tr>\n",
       "      <th>996</th>\n",
       "      <td>Texas</td>\n",
       "      <td>North America</td>\n",
       "      <td>27.83</td>\n",
       "      <td>12.52</td>\n",
       "      <td>8.89</td>\n",
       "      <td>4.46</td>\n",
       "      <td>6.38</td>\n",
       "    </tr>\n",
       "    <tr>\n",
       "      <th>997</th>\n",
       "      <td>Germany</td>\n",
       "      <td>Europe</td>\n",
       "      <td>25.47</td>\n",
       "      <td>7.69</td>\n",
       "      <td>7.90</td>\n",
       "      <td>6.90</td>\n",
       "      <td>15.00</td>\n",
       "    </tr>\n",
       "    <tr>\n",
       "      <th>998</th>\n",
       "      <td>Shenzhen</td>\n",
       "      <td>Greater China</td>\n",
       "      <td>15.34</td>\n",
       "      <td>8.81</td>\n",
       "      <td>8.24</td>\n",
       "      <td>8.78</td>\n",
       "      <td>15.49</td>\n",
       "    </tr>\n",
       "    <tr>\n",
       "      <th>999</th>\n",
       "      <td>Shanghai</td>\n",
       "      <td>Greater China</td>\n",
       "      <td>26.30</td>\n",
       "      <td>4.06</td>\n",
       "      <td>3.41</td>\n",
       "      <td>5.69</td>\n",
       "      <td>14.29</td>\n",
       "    </tr>\n",
       "  </tbody>\n",
       "</table>\n",
       "</div>"
      ],
      "text/plain": [
       "        State         Region  iPhone Sales (in million units)  \\\n",
       "995    Mexico  Rest of World                            29.86   \n",
       "996     Texas  North America                            27.83   \n",
       "997   Germany         Europe                            25.47   \n",
       "998  Shenzhen  Greater China                            15.34   \n",
       "999  Shanghai  Greater China                            26.30   \n",
       "\n",
       "     iPad Sales (in million units)  Mac Sales (in million units)  \\\n",
       "995                          10.30                          7.40   \n",
       "996                          12.52                          8.89   \n",
       "997                           7.69                          7.90   \n",
       "998                           8.81                          8.24   \n",
       "999                           4.06                          3.41   \n",
       "\n",
       "     Wearables (in million units)  Services Revenue (in billion $)  \n",
       "995                          9.60                            18.56  \n",
       "996                          4.46                             6.38  \n",
       "997                          6.90                            15.00  \n",
       "998                          8.78                            15.49  \n",
       "999                          5.69                            14.29  "
      ]
     },
     "execution_count": 6,
     "metadata": {},
     "output_type": "execute_result"
    }
   ],
   "source": [
    "data.tail()"
   ]
  },
  {
   "cell_type": "code",
   "execution_count": 7,
   "metadata": {},
   "outputs": [
    {
     "data": {
      "text/html": [
       "<div>\n",
       "<style scoped>\n",
       "    .dataframe tbody tr th:only-of-type {\n",
       "        vertical-align: middle;\n",
       "    }\n",
       "\n",
       "    .dataframe tbody tr th {\n",
       "        vertical-align: top;\n",
       "    }\n",
       "\n",
       "    .dataframe thead th {\n",
       "        text-align: right;\n",
       "    }\n",
       "</style>\n",
       "<table border=\"1\" class=\"dataframe\">\n",
       "  <thead>\n",
       "    <tr style=\"text-align: right;\">\n",
       "      <th></th>\n",
       "      <th>State</th>\n",
       "      <th>Region</th>\n",
       "      <th>iPhone Sales (in million units)</th>\n",
       "      <th>iPad Sales (in million units)</th>\n",
       "      <th>Mac Sales (in million units)</th>\n",
       "      <th>Wearables (in million units)</th>\n",
       "      <th>Services Revenue (in billion $)</th>\n",
       "    </tr>\n",
       "  </thead>\n",
       "  <tbody>\n",
       "    <tr>\n",
       "      <th>464</th>\n",
       "      <td>Illinois</td>\n",
       "      <td>North America</td>\n",
       "      <td>17.98</td>\n",
       "      <td>10.65</td>\n",
       "      <td>8.5</td>\n",
       "      <td>5.86</td>\n",
       "      <td>5.13</td>\n",
       "    </tr>\n",
       "  </tbody>\n",
       "</table>\n",
       "</div>"
      ],
      "text/plain": [
       "        State         Region  iPhone Sales (in million units)  \\\n",
       "464  Illinois  North America                            17.98   \n",
       "\n",
       "     iPad Sales (in million units)  Mac Sales (in million units)  \\\n",
       "464                          10.65                           8.5   \n",
       "\n",
       "     Wearables (in million units)  Services Revenue (in billion $)  \n",
       "464                          5.86                             5.13  "
      ]
     },
     "execution_count": 7,
     "metadata": {},
     "output_type": "execute_result"
    }
   ],
   "source": [
    "data.sample()"
   ]
  },
  {
   "cell_type": "code",
   "execution_count": 8,
   "metadata": {},
   "outputs": [
    {
     "name": "stdout",
     "output_type": "stream",
     "text": [
      "<class 'pandas.core.frame.DataFrame'>\n",
      "RangeIndex: 1000 entries, 0 to 999\n",
      "Data columns (total 7 columns):\n",
      " #   Column                           Non-Null Count  Dtype  \n",
      "---  ------                           --------------  -----  \n",
      " 0   State                            1000 non-null   object \n",
      " 1   Region                           1000 non-null   object \n",
      " 2   iPhone Sales (in million units)  1000 non-null   float64\n",
      " 3   iPad Sales (in million units)    1000 non-null   float64\n",
      " 4   Mac Sales (in million units)     1000 non-null   float64\n",
      " 5   Wearables (in million units)     1000 non-null   float64\n",
      " 6   Services Revenue (in billion $)  1000 non-null   float64\n",
      "dtypes: float64(5), object(2)\n",
      "memory usage: 54.8+ KB\n"
     ]
    }
   ],
   "source": [
    "data.info()"
   ]
  },
  {
   "cell_type": "code",
   "execution_count": 9,
   "metadata": {},
   "outputs": [
    {
     "data": {
      "text/html": [
       "<div>\n",
       "<style scoped>\n",
       "    .dataframe tbody tr th:only-of-type {\n",
       "        vertical-align: middle;\n",
       "    }\n",
       "\n",
       "    .dataframe tbody tr th {\n",
       "        vertical-align: top;\n",
       "    }\n",
       "\n",
       "    .dataframe thead th {\n",
       "        text-align: right;\n",
       "    }\n",
       "</style>\n",
       "<table border=\"1\" class=\"dataframe\">\n",
       "  <thead>\n",
       "    <tr style=\"text-align: right;\">\n",
       "      <th></th>\n",
       "      <th>iPhone Sales (in million units)</th>\n",
       "      <th>iPad Sales (in million units)</th>\n",
       "      <th>Mac Sales (in million units)</th>\n",
       "      <th>Wearables (in million units)</th>\n",
       "      <th>Services Revenue (in billion $)</th>\n",
       "    </tr>\n",
       "  </thead>\n",
       "  <tbody>\n",
       "    <tr>\n",
       "      <th>count</th>\n",
       "      <td>1000.000000</td>\n",
       "      <td>1000.000000</td>\n",
       "      <td>1000.000000</td>\n",
       "      <td>1000.000000</td>\n",
       "      <td>1000.000000</td>\n",
       "    </tr>\n",
       "    <tr>\n",
       "      <th>mean</th>\n",
       "      <td>17.444500</td>\n",
       "      <td>8.565880</td>\n",
       "      <td>5.555760</td>\n",
       "      <td>6.935500</td>\n",
       "      <td>12.447130</td>\n",
       "    </tr>\n",
       "    <tr>\n",
       "      <th>std</th>\n",
       "      <td>7.180077</td>\n",
       "      <td>3.735994</td>\n",
       "      <td>2.506491</td>\n",
       "      <td>2.951677</td>\n",
       "      <td>4.306347</td>\n",
       "    </tr>\n",
       "    <tr>\n",
       "      <th>min</th>\n",
       "      <td>5.030000</td>\n",
       "      <td>2.020000</td>\n",
       "      <td>1.010000</td>\n",
       "      <td>2.000000</td>\n",
       "      <td>5.010000</td>\n",
       "    </tr>\n",
       "    <tr>\n",
       "      <th>25%</th>\n",
       "      <td>11.447500</td>\n",
       "      <td>5.432500</td>\n",
       "      <td>3.470000</td>\n",
       "      <td>4.330000</td>\n",
       "      <td>8.710000</td>\n",
       "    </tr>\n",
       "    <tr>\n",
       "      <th>50%</th>\n",
       "      <td>17.130000</td>\n",
       "      <td>8.695000</td>\n",
       "      <td>5.550000</td>\n",
       "      <td>6.815000</td>\n",
       "      <td>12.205000</td>\n",
       "    </tr>\n",
       "    <tr>\n",
       "      <th>75%</th>\n",
       "      <td>23.715000</td>\n",
       "      <td>11.740000</td>\n",
       "      <td>7.730000</td>\n",
       "      <td>9.532500</td>\n",
       "      <td>16.252500</td>\n",
       "    </tr>\n",
       "    <tr>\n",
       "      <th>max</th>\n",
       "      <td>29.940000</td>\n",
       "      <td>14.990000</td>\n",
       "      <td>9.990000</td>\n",
       "      <td>12.000000</td>\n",
       "      <td>19.920000</td>\n",
       "    </tr>\n",
       "  </tbody>\n",
       "</table>\n",
       "</div>"
      ],
      "text/plain": [
       "       iPhone Sales (in million units)  iPad Sales (in million units)  \\\n",
       "count                      1000.000000                    1000.000000   \n",
       "mean                         17.444500                       8.565880   \n",
       "std                           7.180077                       3.735994   \n",
       "min                           5.030000                       2.020000   \n",
       "25%                          11.447500                       5.432500   \n",
       "50%                          17.130000                       8.695000   \n",
       "75%                          23.715000                      11.740000   \n",
       "max                          29.940000                      14.990000   \n",
       "\n",
       "       Mac Sales (in million units)  Wearables (in million units)  \\\n",
       "count                   1000.000000                   1000.000000   \n",
       "mean                       5.555760                      6.935500   \n",
       "std                        2.506491                      2.951677   \n",
       "min                        1.010000                      2.000000   \n",
       "25%                        3.470000                      4.330000   \n",
       "50%                        5.550000                      6.815000   \n",
       "75%                        7.730000                      9.532500   \n",
       "max                        9.990000                     12.000000   \n",
       "\n",
       "       Services Revenue (in billion $)  \n",
       "count                      1000.000000  \n",
       "mean                         12.447130  \n",
       "std                           4.306347  \n",
       "min                           5.010000  \n",
       "25%                           8.710000  \n",
       "50%                          12.205000  \n",
       "75%                          16.252500  \n",
       "max                          19.920000  "
      ]
     },
     "execution_count": 9,
     "metadata": {},
     "output_type": "execute_result"
    }
   ],
   "source": [
    "data.describe()"
   ]
  },
  {
   "cell_type": "code",
   "execution_count": 10,
   "metadata": {},
   "outputs": [],
   "source": [
    "y=data.describe(include=\"all\")"
   ]
  },
  {
   "cell_type": "code",
   "execution_count": 11,
   "metadata": {},
   "outputs": [],
   "source": [
    "y=data.describe(include=\"all\")"
   ]
  },
  {
   "cell_type": "code",
   "execution_count": 12,
   "metadata": {},
   "outputs": [
    {
     "data": {
      "text/html": [
       "<div>\n",
       "<style scoped>\n",
       "    .dataframe tbody tr th:only-of-type {\n",
       "        vertical-align: middle;\n",
       "    }\n",
       "\n",
       "    .dataframe tbody tr th {\n",
       "        vertical-align: top;\n",
       "    }\n",
       "\n",
       "    .dataframe thead th {\n",
       "        text-align: right;\n",
       "    }\n",
       "</style>\n",
       "<table border=\"1\" class=\"dataframe\">\n",
       "  <thead>\n",
       "    <tr style=\"text-align: right;\">\n",
       "      <th></th>\n",
       "      <th>State</th>\n",
       "      <th>Region</th>\n",
       "      <th>iPhone Sales (in million units)</th>\n",
       "      <th>iPad Sales (in million units)</th>\n",
       "      <th>Mac Sales (in million units)</th>\n",
       "      <th>Wearables (in million units)</th>\n",
       "      <th>Services Revenue (in billion $)</th>\n",
       "    </tr>\n",
       "  </thead>\n",
       "  <tbody>\n",
       "    <tr>\n",
       "      <th>top</th>\n",
       "      <td>Hong Kong</td>\n",
       "      <td>Rest of World</td>\n",
       "      <td>NaN</td>\n",
       "      <td>NaN</td>\n",
       "      <td>NaN</td>\n",
       "      <td>NaN</td>\n",
       "      <td>NaN</td>\n",
       "    </tr>\n",
       "    <tr>\n",
       "      <th>max</th>\n",
       "      <td>NaN</td>\n",
       "      <td>NaN</td>\n",
       "      <td>29.94</td>\n",
       "      <td>14.99</td>\n",
       "      <td>9.99</td>\n",
       "      <td>12.0</td>\n",
       "      <td>19.92</td>\n",
       "    </tr>\n",
       "  </tbody>\n",
       "</table>\n",
       "</div>"
      ],
      "text/plain": [
       "         State         Region  iPhone Sales (in million units)  \\\n",
       "top  Hong Kong  Rest of World                              NaN   \n",
       "max        NaN            NaN                            29.94   \n",
       "\n",
       "     iPad Sales (in million units)  Mac Sales (in million units)  \\\n",
       "top                            NaN                           NaN   \n",
       "max                          14.99                          9.99   \n",
       "\n",
       "     Wearables (in million units)  Services Revenue (in billion $)  \n",
       "top                           NaN                              NaN  \n",
       "max                          12.0                            19.92  "
      ]
     },
     "execution_count": 12,
     "metadata": {},
     "output_type": "execute_result"
    }
   ],
   "source": [
    "y.loc[[\"top\",\"max\"]]"
   ]
  },
  {
   "cell_type": "code",
   "execution_count": 13,
   "metadata": {},
   "outputs": [
    {
     "data": {
      "text/html": [
       "<div>\n",
       "<style scoped>\n",
       "    .dataframe tbody tr th:only-of-type {\n",
       "        vertical-align: middle;\n",
       "    }\n",
       "\n",
       "    .dataframe tbody tr th {\n",
       "        vertical-align: top;\n",
       "    }\n",
       "\n",
       "    .dataframe thead th {\n",
       "        text-align: right;\n",
       "    }\n",
       "</style>\n",
       "<table border=\"1\" class=\"dataframe\">\n",
       "  <thead>\n",
       "    <tr style=\"text-align: right;\">\n",
       "      <th></th>\n",
       "      <th>State</th>\n",
       "      <th>Region</th>\n",
       "      <th>iPhone Sales (in million units)</th>\n",
       "      <th>iPad Sales (in million units)</th>\n",
       "      <th>Mac Sales (in million units)</th>\n",
       "      <th>Wearables (in million units)</th>\n",
       "      <th>Services Revenue (in billion $)</th>\n",
       "    </tr>\n",
       "  </thead>\n",
       "  <tbody>\n",
       "    <tr>\n",
       "      <th>count</th>\n",
       "      <td>1000</td>\n",
       "      <td>1000</td>\n",
       "      <td>1000.0000</td>\n",
       "      <td>1000.00000</td>\n",
       "      <td>1000.00000</td>\n",
       "      <td>1000.0000</td>\n",
       "      <td>1000.00000</td>\n",
       "    </tr>\n",
       "    <tr>\n",
       "      <th>mean</th>\n",
       "      <td>NaN</td>\n",
       "      <td>NaN</td>\n",
       "      <td>17.4445</td>\n",
       "      <td>8.56588</td>\n",
       "      <td>5.55576</td>\n",
       "      <td>6.9355</td>\n",
       "      <td>12.44713</td>\n",
       "    </tr>\n",
       "    <tr>\n",
       "      <th>50%</th>\n",
       "      <td>NaN</td>\n",
       "      <td>NaN</td>\n",
       "      <td>17.1300</td>\n",
       "      <td>8.69500</td>\n",
       "      <td>5.55000</td>\n",
       "      <td>6.8150</td>\n",
       "      <td>12.20500</td>\n",
       "    </tr>\n",
       "  </tbody>\n",
       "</table>\n",
       "</div>"
      ],
      "text/plain": [
       "      State Region  iPhone Sales (in million units)  \\\n",
       "count  1000   1000                        1000.0000   \n",
       "mean    NaN    NaN                          17.4445   \n",
       "50%     NaN    NaN                          17.1300   \n",
       "\n",
       "       iPad Sales (in million units)  Mac Sales (in million units)  \\\n",
       "count                     1000.00000                    1000.00000   \n",
       "mean                         8.56588                       5.55576   \n",
       "50%                          8.69500                       5.55000   \n",
       "\n",
       "       Wearables (in million units)  Services Revenue (in billion $)  \n",
       "count                     1000.0000                       1000.00000  \n",
       "mean                         6.9355                         12.44713  \n",
       "50%                          6.8150                         12.20500  "
      ]
     },
     "execution_count": 13,
     "metadata": {},
     "output_type": "execute_result"
    }
   ],
   "source": [
    "y.iloc[[\"0\",\"4\",\"8\"]]"
   ]
  },
  {
   "cell_type": "code",
   "execution_count": 14,
   "metadata": {},
   "outputs": [
    {
     "data": {
      "text/plain": [
       "State                              0\n",
       "Region                             0\n",
       "iPhone Sales (in million units)    0\n",
       "iPad Sales (in million units)      0\n",
       "Mac Sales (in million units)       0\n",
       "Wearables (in million units)       0\n",
       "Services Revenue (in billion $)    0\n",
       "dtype: int64"
      ]
     },
     "execution_count": 14,
     "metadata": {},
     "output_type": "execute_result"
    }
   ],
   "source": [
    "data.isnull().sum()"
   ]
  },
  {
   "cell_type": "code",
   "execution_count": 15,
   "metadata": {},
   "outputs": [
    {
     "data": {
      "text/plain": [
       "Region\n",
       "Rest of World    221\n",
       "Greater China    219\n",
       "Europe           204\n",
       "Rest of Asia     178\n",
       "North America    178\n",
       "Name: count, dtype: int64"
      ]
     },
     "execution_count": 15,
     "metadata": {},
     "output_type": "execute_result"
    }
   ],
   "source": [
    "data[\"Region\"].value_counts()"
   ]
  },
  {
   "cell_type": "code",
   "execution_count": 16,
   "metadata": {},
   "outputs": [
    {
     "data": {
      "text/plain": [
       "<Axes: title={'center': 'state'}, xlabel='State'>"
      ]
     },
     "execution_count": 16,
     "metadata": {},
     "output_type": "execute_result"
    },
    {
     "data": {
      "image/png": "[encoded data removed]",
      "text/plain": [
       "<Figure size 640x480 with 1 Axes>"
      ]
     },
     "metadata": {},
     "output_type": "display_data"
    }
   ],
   "source": [
    "data[\"State\"].value_counts().plot(kind=\"bar\",title=\"state\",color=\"purple\")"
   ]
  },
  {
   "cell_type": "code",
   "execution_count": 17,
   "metadata": {},
   "outputs": [
    {
     "data": {
      "text/plain": [
       "<Axes: title={'center': 'region'}, ylabel='count'>"
      ]
     },
     "execution_count": 17,
     "metadata": {},
     "output_type": "execute_result"
    },
    {
     "data": {
      "image/png": "[encoded data removed]",
      "text/plain": [
       "<Figure size 640x480 with 1 Axes>"
      ]
     },
     "metadata": {},
     "output_type": "display_data"
    }
   ],
   "source": [
    "data[\"Region\"].value_counts().plot(kind=\"pie\",title=\"region\",color=\"red\")"
   ]
  },
  {
   "cell_type": "code",
   "execution_count": 18,
   "metadata": {},
   "outputs": [],
   "source": [
    "data.to_csv(\"data(new).csv\")"
   ]
  },
  {
   "cell_type": "code",
   "execution_count": null,
   "metadata": {},
   "outputs": [],
   "source": []
  }
 ],
 "metadata": {
  "kernelspec": {
   "display_name": "base",
   "language": "python",
   "name": "python3"
  },
  "language_info": {
   "codemirror_mode": {
    "name": "ipython",
    "version": 3
   },
   "file_extension": ".py",
   "mimetype": "text/x-python",
   "name": "python",
   "nbconvert_exporter": "python",
   "pygments_lexer": "ipython3",
   "version": "3.12.7"
  }
 },
 "nbformat": 4,
 "nbformat_minor": 2
}
